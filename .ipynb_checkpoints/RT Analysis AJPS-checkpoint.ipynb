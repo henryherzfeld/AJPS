{
 "cells": [
  {
   "cell_type": "code",
   "execution_count": 3,
   "metadata": {},
   "outputs": [
    {
     "data": {
      "text/html": [
       "\n",
       "        <iframe\n",
       "            width=\"900\"\n",
       "            height=\"600\"\n",
       "            src=\"AJPS_Presentation.pdf\"\n",
       "            frameborder=\"0\"\n",
       "            allowfullscreen\n",
       "        ></iframe>\n",
       "        "
      ],
      "text/plain": [
       "<IPython.lib.display.IFrame at 0x203e951a910>"
      ]
     },
     "execution_count": 3,
     "metadata": {},
     "output_type": "execute_result"
    }
   ],
   "source": [
    "from IPython.display import IFrame\n",
    "IFrame(\"AJPS_Presentation.pdf\", width=900, height=600)"
   ]
  },
  {
   "cell_type": "code",
   "execution_count": null,
   "metadata": {},
   "outputs": [],
   "source": [
    "!pip install pycrypto"
   ]
  },
  {
   "cell_type": "code",
   "execution_count": 1,
   "metadata": {},
   "outputs": [
    {
     "ename": "ModuleNotFoundError",
     "evalue": "No module named 'Crypto'",
     "output_type": "error",
     "traceback": [
      "\u001b[1;31m---------------------------------------------------------------------------\u001b[0m",
      "\u001b[1;31mModuleNotFoundError\u001b[0m                       Traceback (most recent call last)",
      "\u001b[1;32m<ipython-input-1-b11052d40b35>\u001b[0m in \u001b[0;36m<module>\u001b[1;34m\u001b[0m\n\u001b[1;32m----> 1\u001b[1;33m \u001b[1;32mfrom\u001b[0m \u001b[0mAJPS_full\u001b[0m \u001b[1;32mimport\u001b[0m \u001b[0mkeygen\u001b[0m\u001b[1;33m,\u001b[0m \u001b[0menc\u001b[0m\u001b[1;33m,\u001b[0m \u001b[0mdec\u001b[0m\u001b[1;33m\u001b[0m\u001b[1;33m\u001b[0m\u001b[0m\n\u001b[0m\u001b[0;32m      2\u001b[0m \u001b[1;32mfrom\u001b[0m \u001b[0mutil\u001b[0m \u001b[1;32mimport\u001b[0m \u001b[0mtimer\u001b[0m\u001b[1;33m,\u001b[0m \u001b[0mint2string\u001b[0m\u001b[1;33m,\u001b[0m \u001b[0mstring2int\u001b[0m\u001b[1;33m\u001b[0m\u001b[1;33m\u001b[0m\u001b[0m\n\u001b[0;32m      3\u001b[0m \u001b[1;32mimport\u001b[0m \u001b[0mmatplotlib\u001b[0m\u001b[1;33m.\u001b[0m\u001b[0mpyplot\u001b[0m \u001b[1;32mas\u001b[0m \u001b[0mplt\u001b[0m\u001b[1;33m\u001b[0m\u001b[1;33m\u001b[0m\u001b[0m\n\u001b[0;32m      4\u001b[0m \u001b[1;32mimport\u001b[0m \u001b[0mnumpy\u001b[0m \u001b[1;32mas\u001b[0m \u001b[0mnp\u001b[0m\u001b[1;33m\u001b[0m\u001b[1;33m\u001b[0m\u001b[0m\n\u001b[0;32m      5\u001b[0m \u001b[1;32mfrom\u001b[0m \u001b[0mecc\u001b[0m \u001b[1;32mimport\u001b[0m \u001b[0mE\u001b[0m\u001b[1;33m,\u001b[0m \u001b[0mD\u001b[0m\u001b[1;33m\u001b[0m\u001b[1;33m\u001b[0m\u001b[0m\n",
      "\u001b[1;32m~\\Desktop\\to_move\\AJPS-Attacks\\AJPS_full.py\u001b[0m in \u001b[0;36m<module>\u001b[1;34m\u001b[0m\n\u001b[1;32m----> 1\u001b[1;33m \u001b[1;32mfrom\u001b[0m \u001b[0mutil\u001b[0m \u001b[1;32mimport\u001b[0m \u001b[0mint2string\u001b[0m\u001b[1;33m,\u001b[0m \u001b[0mstring2int\u001b[0m\u001b[1;33m\u001b[0m\u001b[1;33m\u001b[0m\u001b[0m\n\u001b[0m\u001b[0;32m      2\u001b[0m \u001b[1;32mfrom\u001b[0m \u001b[0mgen\u001b[0m \u001b[1;32mimport\u001b[0m \u001b[0mget_random_int_of_hamming_weight_h\u001b[0m\u001b[1;33m,\u001b[0m \u001b[0mget_n_bit_int\u001b[0m\u001b[1;33m,\u001b[0m \u001b[0mget_nbit_ham_strings\u001b[0m\u001b[1;33m\u001b[0m\u001b[1;33m\u001b[0m\u001b[0m\n\u001b[0;32m      3\u001b[0m \u001b[1;32mfrom\u001b[0m \u001b[0mrandom\u001b[0m \u001b[1;32mimport\u001b[0m \u001b[0mrandrange\u001b[0m\u001b[1;33m\u001b[0m\u001b[1;33m\u001b[0m\u001b[0m\n\u001b[0;32m      4\u001b[0m \u001b[1;32mfrom\u001b[0m \u001b[0mham\u001b[0m \u001b[1;32mimport\u001b[0m \u001b[0mham\u001b[0m\u001b[1;33m,\u001b[0m \u001b[0mham2\u001b[0m\u001b[1;33m,\u001b[0m \u001b[0mhamdist\u001b[0m\u001b[1;33m\u001b[0m\u001b[1;33m\u001b[0m\u001b[0m\n\u001b[0;32m      5\u001b[0m \u001b[1;32mfrom\u001b[0m \u001b[0mecc\u001b[0m \u001b[1;32mimport\u001b[0m \u001b[0mE\u001b[0m\u001b[1;33m,\u001b[0m \u001b[0mD\u001b[0m\u001b[1;33m\u001b[0m\u001b[1;33m\u001b[0m\u001b[0m\n",
      "\u001b[1;32m~\\Desktop\\to_move\\AJPS-Attacks\\util.py\u001b[0m in \u001b[0;36m<module>\u001b[1;34m\u001b[0m\n\u001b[1;32m----> 1\u001b[1;33m \u001b[1;32mfrom\u001b[0m \u001b[0mCrypto\u001b[0m\u001b[1;33m.\u001b[0m\u001b[0mUtil\u001b[0m \u001b[1;32mimport\u001b[0m \u001b[0mnumber\u001b[0m\u001b[1;33m\u001b[0m\u001b[1;33m\u001b[0m\u001b[0m\n\u001b[0m\u001b[0;32m      2\u001b[0m \u001b[1;32mimport\u001b[0m \u001b[0mtime\u001b[0m\u001b[1;33m\u001b[0m\u001b[1;33m\u001b[0m\u001b[0m\n\u001b[0;32m      3\u001b[0m \u001b[1;33m\u001b[0m\u001b[0m\n\u001b[0;32m      4\u001b[0m \u001b[1;32mdef\u001b[0m \u001b[0mbitlength\u001b[0m\u001b[1;33m(\u001b[0m\u001b[0mx\u001b[0m\u001b[1;33m)\u001b[0m\u001b[1;33m:\u001b[0m\u001b[1;33m\u001b[0m\u001b[1;33m\u001b[0m\u001b[0m\n\u001b[0;32m      5\u001b[0m     \u001b[1;32mreturn\u001b[0m \u001b[0mlen\u001b[0m\u001b[1;33m(\u001b[0m\u001b[0mbin\u001b[0m\u001b[1;33m(\u001b[0m\u001b[0mx\u001b[0m\u001b[1;33m)\u001b[0m\u001b[1;33m[\u001b[0m\u001b[1;36m2\u001b[0m\u001b[1;33m:\u001b[0m\u001b[1;33m]\u001b[0m\u001b[1;33m)\u001b[0m\u001b[1;33m\u001b[0m\u001b[1;33m\u001b[0m\u001b[0m\n",
      "\u001b[1;31mModuleNotFoundError\u001b[0m: No module named 'Crypto'"
     ]
    }
   ],
   "source": [
    "from AJPS_full import keygen, enc, dec\n",
    "from util import timer, int2string, string2int\n",
    "import matplotlib.pyplot as plt\n",
    "import numpy as np\n",
    "from ecc import E, D\n",
    "%matplotlib inline"
   ]
  },
  {
   "cell_type": "code",
   "execution_count": null,
   "metadata": {},
   "outputs": [],
   "source": [
    "ns = [11213, 19937, 21701, 23209, 44497, 86243, 110503, 132049, 216091, 756839, 859433, 1257787,\n",
    "     1398269, 2976221, 3021377, 6972593, 13446917] \n",
    "#       20996011, 24036583, 25964951, 30402457, 32582657,\n",
    "#      37156667, 43112609, 42643801, 57885161, 74207281, 77232917, 82589933]"
   ]
  },
  {
   "cell_type": "markdown",
   "metadata": {},
   "source": [
    "## AJPS FULL without GMPY2"
   ]
  },
  {
   "cell_type": "code",
   "execution_count": null,
   "metadata": {},
   "outputs": [
    {
     "name": "stdout",
     "output_type": "stream",
     "text": [
      "11213 0.1355760097503662\n",
      "19937 0.24099695682525635\n",
      "21701 0.25836169719696045\n",
      "23209 0.27664685249328613\n",
      "44497 0.5208272933959961\n",
      "86243 1.0093162059783936\n",
      "110503 1.2948018312454224\n",
      "132049 1.545017957687378\n",
      "216091 2.5252013206481934\n",
      "756839 8.826522588729858\n",
      "859433 10.193560242652893\n"
     ]
    }
   ],
   "source": [
    "h = 256\n",
    "runs = 2\n",
    "rho = 256\n",
    "\n",
    "acc = np.zeros((len(ns), 3))\n",
    "correctness = np.zeros(len(ns), dtype=bool)\n",
    "\n",
    "m = string2int(\"Robert DeNiro thinks that Trump will go for a third term via a war\")\n",
    "\n",
    "for i, n in enumerate(ns):\n",
    "    \n",
    "    p = 2**n-1\n",
    "\n",
    "    # KEYGEN\n",
    "    params = [n, h]\n",
    "    time, ret = timer(keygen, params, runs)\n",
    "    acc[i][0] = time\n",
    "    pk, sk, _ = ret\n",
    "    \n",
    "    # ENCRYPTION\n",
    "    params = [m, pk, p, n, h]\n",
    "    time, ret = timer(enc, params, runs)\n",
    "    acc[i][1] = time\n",
    "    C = ret\n",
    "    \n",
    "    print(n, time)\n",
    "    \n",
    "    # DECRYPTION\n",
    "    params = [C, sk, p]\n",
    "    time, ret = timer(dec, params, runs)\n",
    "    acc[i][2] = time\n",
    "    m_prime = ret\n",
    "    \n",
    "    # SUCCESS?\n",
    "    correctness[i] = m_prime == m"
   ]
  },
  {
   "cell_type": "code",
   "execution_count": null,
   "metadata": {},
   "outputs": [],
   "source": [
    "plt.figure(figsize=(10,7))\n",
    "ax = plt.subplot(131)\n",
    "ax.set(title=\"keygen\")\n",
    "_ = plt.plot(ns, acc[:, 0])\n",
    "ax = plt.subplot(132, sharey=ax)\n",
    "ax.set(title=\"encryption\")\n",
    "_ = plt.plot(ns, acc[:, 1])\n",
    "ax = plt.subplot(133, sharey=ax)\n",
    "ax.set(title=\"decryption\")\n",
    "_ = plt.plot(ns, acc[:, 2])"
   ]
  },
  {
   "cell_type": "markdown",
   "metadata": {},
   "source": [
    "## AJPS bit-by-bit without GMPY2"
   ]
  },
  {
   "cell_type": "code",
   "execution_count": null,
   "metadata": {},
   "outputs": [],
   "source": [
    "from AJPS_basic import keygen, enc, dec"
   ]
  },
  {
   "cell_type": "code",
   "execution_count": null,
   "metadata": {},
   "outputs": [],
   "source": [
    "h = 256\n",
    "runs = 2\n",
    "rho = 256\n",
    "\n",
    "acc = np.zeros((len(ns), 3))\n",
    "correctness = np.zeros(len(ns), dtype=bool)\n",
    "\n",
    "m = 0\n",
    "\n",
    "for i, n in enumerate(ns):\n",
    "    \n",
    "    p = 2**n-1\n",
    "\n",
    "    # KEYGEN\n",
    "    params = [n, h]\n",
    "    time, ret = timer(keygen, params, runs)\n",
    "    acc[i][0] = time\n",
    "    pk, sk = ret\n",
    "    \n",
    "    # ENCRYPTION\n",
    "    params = [m, pk, p, n, h]\n",
    "    time, ret = timer(enc, params, runs)\n",
    "    acc[i][1] = time\n",
    "    C, signed = ret\n",
    "    \n",
    "    print(n, time)\n",
    "    \n",
    "    # DECRYPTION\n",
    "    params = [C, sk, n, h, signed]\n",
    "    time, ret = timer(dec, params, runs)\n",
    "    acc[i][2] = time\n",
    "    m_prime = ret\n",
    "    \n",
    "    # SUCCESS?\n",
    "    correctness[i] = m_prime == m"
   ]
  },
  {
   "cell_type": "code",
   "execution_count": null,
   "metadata": {
    "scrolled": true
   },
   "outputs": [],
   "source": [
    "plt.figure(figsize=(10,7))\n",
    "ax = plt.subplot(131)\n",
    "ax.set(title=\"keygen\")\n",
    "_ = plt.plot(ns, acc[:, 0])\n",
    "ax = plt.subplot(132, sharey=ax)\n",
    "ax.set(title=\"encryption\")\n",
    "_ = plt.plot(ns, acc[:, 1])\n",
    "ax = plt.subplot(133, sharey=ax)\n",
    "ax.set(title=\"decryption\")\n",
    "_ = plt.plot(ns, acc[:, 2])"
   ]
  },
  {
   "cell_type": "markdown",
   "metadata": {},
   "source": [
    "## AJPS FULL BPL without GYMP2:"
   ]
  },
  {
   "cell_type": "code",
   "execution_count": null,
   "metadata": {
    "scrolled": true
   },
   "outputs": [],
   "source": [
    "from AJPS_full_bpl import keygen, enc, dec"
   ]
  },
  {
   "cell_type": "code",
   "execution_count": null,
   "metadata": {},
   "outputs": [],
   "source": [
    "h = 256\n",
    "runs = 2\n",
    "rho = 256\n",
    "\n",
    "acc = np.zeros((len(ns), 3))\n",
    "correctness = np.zeros(len(ns), dtype=bool)\n",
    "\n",
    "m = string2int(\"Robert DeNiro thinks that Trump will go for a third term via a war\")\n",
    "\n",
    "for i, n in enumerate(ns):\n",
    "    \n",
    "    p = 2**n-1\n",
    "\n",
    "    # KEYGEN\n",
    "    params = [n, h, p, False]\n",
    "    time, ret = timer(keygen, params, runs)\n",
    "    acc[i][0] = time\n",
    "    pk, sk, _ = ret\n",
    "    \n",
    "    # ENCRYPTION\n",
    "    params = [m, pk, p, n, h, rho]\n",
    "    time, ret = timer(enc, params, runs)\n",
    "    acc[i][1] = time\n",
    "    C = ret\n",
    "    \n",
    "    print(n, time)\n",
    "    \n",
    "    # DECRYPTION\n",
    "    params = [C, sk, p, rho]\n",
    "    time, ret = timer(dec, params, runs)\n",
    "    acc[i][2] = time\n",
    "    m_prime = ret\n",
    "    \n",
    "    # SUCCESS?\n",
    "    correctness[i] = m_prime == m"
   ]
  },
  {
   "cell_type": "code",
   "execution_count": null,
   "metadata": {},
   "outputs": [],
   "source": [
    "plt.figure(figsize=(10,7))\n",
    "ax = plt.subplot(131)\n",
    "ax.set(title=\"keygen\")\n",
    "_ = plt.plot(ns, acc[:, 0])\n",
    "ax = plt.subplot(132, sharey=ax)\n",
    "ax.set(title=\"encryption\")\n",
    "_ = plt.plot(ns, acc[:, 1])\n",
    "ax = plt.subplot(133, sharey=ax)\n",
    "ax.set(title=\"decryption\")\n",
    "_ = plt.plot(ns, acc[:, 2])"
   ]
  },
  {
   "cell_type": "markdown",
   "metadata": {},
   "source": [
    "## AJPS FULL with GMPY2"
   ]
  },
  {
   "cell_type": "code",
   "execution_count": null,
   "metadata": {},
   "outputs": [],
   "source": [
    "from gmpy2 import mpz\n",
    "from AJPS_full import keygen, enc, dec"
   ]
  },
  {
   "cell_type": "code",
   "execution_count": null,
   "metadata": {},
   "outputs": [],
   "source": [
    "h = mpz(256)\n",
    "runs = 2\n",
    "rho = 256\n",
    "\n",
    "\n",
    "acc = np.zeros((len(ns), 3))\n",
    "correctness = np.zeros(len(ns), dtype=bool)\n",
    "\n",
    "m = string2int(\"Robert DeNiro thinks that Trump will go for a third term via a war\")\n",
    "\n",
    "for i, n in enumerate(ns):\n",
    "    \n",
    "    n = mpz(n)\n",
    "    p = mpz(2**n-1)\n",
    "\n",
    "    # KEYGEN\n",
    "    params = [n, h]\n",
    "    time, ret = timer(keygen, params, runs)\n",
    "    acc[i][0] = time\n",
    "    pk, sk, _ = ret\n",
    "    \n",
    "    # ENCRYPTION\n",
    "    params = [m, pk, p, n, h]\n",
    "    time, ret = timer(enc, params, runs)\n",
    "    acc[i][1] = time\n",
    "    C = ret\n",
    "    \n",
    "    print(n, time)\n",
    "    \n",
    "    # DECRYPTION\n",
    "    params = [C, sk, p]\n",
    "    time, ret = timer(dec, params, runs)\n",
    "    acc[i][2] = time\n",
    "    m_prime = ret\n",
    "    \n",
    "    # SUCCESS?\n",
    "    correctness[i] = m_prime == m"
   ]
  },
  {
   "cell_type": "code",
   "execution_count": null,
   "metadata": {},
   "outputs": [],
   "source": [
    "plt.figure(figsize=(10,7))\n",
    "ax = plt.subplot(131)\n",
    "ax.set(title=\"keygen\")\n",
    "_ = plt.plot(ns, acc[:, 0])\n",
    "ax = plt.subplot(132, sharey=ax)\n",
    "ax.set(title=\"encryption\")\n",
    "_ = plt.plot(ns, acc[:, 1])\n",
    "ax = plt.subplot(133, sharey=ax)\n",
    "ax.set(title=\"decryption\")\n",
    "_ = plt.plot(ns, acc[:, 2])"
   ]
  },
  {
   "cell_type": "markdown",
   "metadata": {},
   "source": [
    "## AJPS basic with GMPY2"
   ]
  },
  {
   "cell_type": "code",
   "execution_count": null,
   "metadata": {},
   "outputs": [],
   "source": [
    "from AJPS_basic import keygen, enc, dec"
   ]
  },
  {
   "cell_type": "code",
   "execution_count": null,
   "metadata": {},
   "outputs": [],
   "source": [
    "h = mpz(256)\n",
    "runs = 2\n",
    "rho = 256\n",
    "\n",
    "acc = np.zeros((len(ns), 3))\n",
    "correctness = np.zeros(len(ns), dtype=bool)\n",
    "\n",
    "m = 0\n",
    "\n",
    "for i, n in enumerate(ns):\n",
    "    \n",
    "    n = mpz(n)\n",
    "    p = mpz(2**n-1)\n",
    "\n",
    "    # KEYGEN\n",
    "    params = [n, h]\n",
    "    time, ret = timer(keygen, params, runs)\n",
    "    acc[i][0] = time\n",
    "    pk, sk = ret\n",
    "    \n",
    "    # ENCRYPTION\n",
    "    params = [m, pk, p, n, h]\n",
    "    time, ret = timer(enc, params, runs)\n",
    "    acc[i][1] = time\n",
    "    C, signed = ret\n",
    "    \n",
    "    print(n, time)\n",
    "    \n",
    "    # DECRYPTION\n",
    "    params = [C, sk, n, h, signed]\n",
    "    time, ret = timer(dec, params, runs)\n",
    "    acc[i][2] = time\n",
    "    m_prime = ret\n",
    "    \n",
    "    # SUCCESS?\n",
    "    correctness[i] = m_prime == m"
   ]
  },
  {
   "cell_type": "code",
   "execution_count": null,
   "metadata": {},
   "outputs": [],
   "source": [
    "plt.figure(figsize=(10,7))\n",
    "ax = plt.subplot(131)\n",
    "ax.set(title=\"keygen\")\n",
    "_ = plt.plot(ns, acc[:, 0])\n",
    "ax = plt.subplot(132, sharey=ax)\n",
    "ax.set(title=\"encryption\")\n",
    "_ = plt.plot(ns, acc[:, 1])\n",
    "ax = plt.subplot(133, sharey=ax)\n",
    "ax.set(title=\"decryption\")\n",
    "_ = plt.plot(ns, acc[:, 2])"
   ]
  },
  {
   "cell_type": "markdown",
   "metadata": {},
   "source": [
    "## AJPS FULL BPL with GMPY2"
   ]
  },
  {
   "cell_type": "code",
   "execution_count": null,
   "metadata": {},
   "outputs": [],
   "source": [
    "from AJPS_full_bpl import keygen, enc, dec"
   ]
  },
  {
   "cell_type": "code",
   "execution_count": null,
   "metadata": {},
   "outputs": [],
   "source": [
    "h = mpz(256)\n",
    "runs = 2\n",
    "rho = 256\n",
    "\n",
    "acc = np.zeros((len(ns), 3))\n",
    "correctness = np.zeros(len(ns), dtype=bool)\n",
    "\n",
    "m = string2int(\"Robert DeNiro thinks that Trump will go for a third term via a war\")\n",
    "\n",
    "for i, n in enumerate(ns):\n",
    "    \n",
    "    n = mpz(n)\n",
    "    p = mpz(2**n-1)\n",
    "\n",
    "    # KEYGEN\n",
    "    params = [n, h, p, True]\n",
    "    time, ret = timer(keygen, params, runs)\n",
    "    acc[i][0] = time\n",
    "    pk, sk, _ = ret\n",
    "    \n",
    "    # ENCRYPTION\n",
    "    params = [m, pk, p, n, h, rho]\n",
    "    time, ret = timer(enc, params, runs)\n",
    "    acc[i][1] = time\n",
    "    C = ret\n",
    "    \n",
    "    print(n, time)\n",
    "    \n",
    "    # DECRYPTION\n",
    "    params = [C, sk, p, rho]\n",
    "    time, ret = timer(dec, params, runs)\n",
    "    acc[i][2] = time\n",
    "    m_prime = ret\n",
    "    \n",
    "    # SUCCESS?\n",
    "    correctness[i] = m_prime == m"
   ]
  },
  {
   "cell_type": "code",
   "execution_count": null,
   "metadata": {},
   "outputs": [],
   "source": [
    "plt.figure(figsize=(10,7))\n",
    "ax = plt.subplot(131)\n",
    "ax.set(title=\"keygen\")\n",
    "_ = plt.plot(ns, acc[:, 0])\n",
    "ax = plt.subplot(132, sharey=ax)\n",
    "ax.set(title=\"encryption\")\n",
    "_ = plt.plot(ns, acc[:, 1])\n",
    "ax = plt.subplot(133, sharey=ax)\n",
    "ax.set(title=\"decryption\")\n",
    "_ = plt.plot(ns, acc[:, 2])"
   ]
  }
 ],
 "metadata": {
  "kernelspec": {
   "display_name": "Python 3",
   "language": "python",
   "name": "python3"
  },
  "language_info": {
   "codemirror_mode": {
    "name": "ipython",
    "version": 3
   },
   "file_extension": ".py",
   "mimetype": "text/x-python",
   "name": "python",
   "nbconvert_exporter": "python",
   "pygments_lexer": "ipython3",
   "version": "3.8.3"
  }
 },
 "nbformat": 4,
 "nbformat_minor": 2
}
